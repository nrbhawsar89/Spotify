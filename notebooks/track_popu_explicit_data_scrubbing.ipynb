{
 "cells": [
  {
   "cell_type": "code",
   "execution_count": 5,
   "id": "03f33f91-4536-484a-baf8-e61259de56e0",
   "metadata": {},
   "outputs": [
    {
     "name": "stdout",
     "output_type": "stream",
     "text": [
      "C:\\Users\\nrbha\\Git-Codes\\Spotify\n"
     ]
    }
   ],
   "source": [
    "import os\n",
    "# project_root = os.path.dirname(os.getcwd())\n",
    "# os.chdir(project_root)\n",
    "\n",
    "print(os.getcwd())"
   ]
  },
  {
   "cell_type": "code",
   "execution_count": 3,
   "id": "29b40fc0-2b35-4f18-9836-1fb313168630",
   "metadata": {},
   "outputs": [],
   "source": [
    "import pandas as pd\n",
    "import numpy as np\n",
    "import configparser\n",
    "from sklearn.preprocessing import MinMaxScaler\n",
    "from datetime import datetime as dt\n",
    "\n",
    "import matplotlib.pyplot as plt\n",
    "import seaborn as sns"
   ]
  },
  {
   "cell_type": "code",
   "execution_count": 6,
   "id": "fc7db89d-b0b3-4094-8636-01a4bf0fe466",
   "metadata": {},
   "outputs": [],
   "source": [
    "# Load configuration\n",
    "config = configparser.ConfigParser()\n",
    "config_path = os.path.abspath(os.path.join(os.getcwd(), '..', 'config.ini'))\n",
    "config.read('config.ini')\n",
    "\n",
    "plt.rcParams[\"figure.figsize\"] = tuple(int(s) for s in (config['settings']['fig_size'].strip(\"()\").split(',')))\n",
    "\n",
    "track_df = pd.read_csv(config['files']['track_popularity_explicit'])"
   ]
  },
  {
   "cell_type": "code",
   "execution_count": 7,
   "id": "3396357f-2dd8-4e92-aed8-fda6d8bdf117",
   "metadata": {},
   "outputs": [
    {
     "data": {
      "text/html": [
       "<div>\n",
       "<style scoped>\n",
       "    .dataframe tbody tr th:only-of-type {\n",
       "        vertical-align: middle;\n",
       "    }\n",
       "\n",
       "    .dataframe tbody tr th {\n",
       "        vertical-align: top;\n",
       "    }\n",
       "\n",
       "    .dataframe thead th {\n",
       "        text-align: right;\n",
       "    }\n",
       "</style>\n",
       "<table border=\"1\" class=\"dataframe\">\n",
       "  <thead>\n",
       "    <tr style=\"text-align: right;\">\n",
       "      <th></th>\n",
       "      <th>id</th>\n",
       "      <th>track_popularity</th>\n",
       "      <th>explicit</th>\n",
       "    </tr>\n",
       "  </thead>\n",
       "  <tbody>\n",
       "    <tr>\n",
       "      <th>0</th>\n",
       "      <td>02MBhqgR7WeeI4ZfB6Lo0i</td>\n",
       "      <td>0</td>\n",
       "      <td>False</td>\n",
       "    </tr>\n",
       "    <tr>\n",
       "      <th>1</th>\n",
       "      <td>5j4M4gLYuUy9PVw0vsXWyq</td>\n",
       "      <td>0</td>\n",
       "      <td>False</td>\n",
       "    </tr>\n",
       "    <tr>\n",
       "      <th>2</th>\n",
       "      <td>46EucLPJpx0QM3SCjzzdP0</td>\n",
       "      <td>0</td>\n",
       "      <td>False</td>\n",
       "    </tr>\n",
       "    <tr>\n",
       "      <th>3</th>\n",
       "      <td>4nK2LvW3osgDT89S38Mcg6</td>\n",
       "      <td>0</td>\n",
       "      <td>False</td>\n",
       "    </tr>\n",
       "    <tr>\n",
       "      <th>4</th>\n",
       "      <td>1Pq37WIQZDG7yNFnY5IbqG</td>\n",
       "      <td>0</td>\n",
       "      <td>False</td>\n",
       "    </tr>\n",
       "  </tbody>\n",
       "</table>\n",
       "</div>"
      ],
      "text/plain": [
       "                       id  track_popularity  explicit\n",
       "0  02MBhqgR7WeeI4ZfB6Lo0i                 0     False\n",
       "1  5j4M4gLYuUy9PVw0vsXWyq                 0     False\n",
       "2  46EucLPJpx0QM3SCjzzdP0                 0     False\n",
       "3  4nK2LvW3osgDT89S38Mcg6                 0     False\n",
       "4  1Pq37WIQZDG7yNFnY5IbqG                 0     False"
      ]
     },
     "execution_count": 7,
     "metadata": {},
     "output_type": "execute_result"
    }
   ],
   "source": [
    "track_df.head()"
   ]
  },
  {
   "cell_type": "code",
   "execution_count": 8,
   "id": "b61b1d12-669e-46d7-a29d-612f6c0245ba",
   "metadata": {},
   "outputs": [
    {
     "data": {
      "text/plain": [
       "id                  0\n",
       "track_popularity    0\n",
       "explicit            0\n",
       "dtype: int64"
      ]
     },
     "execution_count": 8,
     "metadata": {},
     "output_type": "execute_result"
    }
   ],
   "source": [
    "track_df.isna().sum()"
   ]
  },
  {
   "cell_type": "code",
   "execution_count": 9,
   "id": "4bdcb436-8bbb-4b3a-b875-b009d2b39e6e",
   "metadata": {},
   "outputs": [
    {
     "data": {
      "text/plain": [
       "id                  438938\n",
       "track_popularity       100\n",
       "explicit                 2\n",
       "dtype: int64"
      ]
     },
     "execution_count": 9,
     "metadata": {},
     "output_type": "execute_result"
    }
   ],
   "source": [
    "track_df.nunique()"
   ]
  },
  {
   "cell_type": "code",
   "execution_count": 12,
   "id": "5d8331dd-fb27-406e-b2b3-82bcd6e9e2e7",
   "metadata": {},
   "outputs": [],
   "source": [
    "track_df.rename(columns={\n",
    "                        'id':'Track_ID',\n",
    "                        'track_popularity':'Popularity',\n",
    "                        'explicit':'Explicit'\n",
    "                        },inplace=True)"
   ]
  },
  {
   "cell_type": "code",
   "execution_count": 13,
   "id": "79da2269-0041-4ba7-81a5-aefb941e1ccf",
   "metadata": {},
   "outputs": [
    {
     "data": {
      "text/html": [
       "<div>\n",
       "<style scoped>\n",
       "    .dataframe tbody tr th:only-of-type {\n",
       "        vertical-align: middle;\n",
       "    }\n",
       "\n",
       "    .dataframe tbody tr th {\n",
       "        vertical-align: top;\n",
       "    }\n",
       "\n",
       "    .dataframe thead th {\n",
       "        text-align: right;\n",
       "    }\n",
       "</style>\n",
       "<table border=\"1\" class=\"dataframe\">\n",
       "  <thead>\n",
       "    <tr style=\"text-align: right;\">\n",
       "      <th></th>\n",
       "      <th>Track_ID</th>\n",
       "      <th>Popularity</th>\n",
       "      <th>Explicit</th>\n",
       "    </tr>\n",
       "  </thead>\n",
       "  <tbody>\n",
       "    <tr>\n",
       "      <th>0</th>\n",
       "      <td>02MBhqgR7WeeI4ZfB6Lo0i</td>\n",
       "      <td>0</td>\n",
       "      <td>False</td>\n",
       "    </tr>\n",
       "    <tr>\n",
       "      <th>1</th>\n",
       "      <td>5j4M4gLYuUy9PVw0vsXWyq</td>\n",
       "      <td>0</td>\n",
       "      <td>False</td>\n",
       "    </tr>\n",
       "    <tr>\n",
       "      <th>2</th>\n",
       "      <td>46EucLPJpx0QM3SCjzzdP0</td>\n",
       "      <td>0</td>\n",
       "      <td>False</td>\n",
       "    </tr>\n",
       "    <tr>\n",
       "      <th>3</th>\n",
       "      <td>4nK2LvW3osgDT89S38Mcg6</td>\n",
       "      <td>0</td>\n",
       "      <td>False</td>\n",
       "    </tr>\n",
       "    <tr>\n",
       "      <th>4</th>\n",
       "      <td>1Pq37WIQZDG7yNFnY5IbqG</td>\n",
       "      <td>0</td>\n",
       "      <td>False</td>\n",
       "    </tr>\n",
       "  </tbody>\n",
       "</table>\n",
       "</div>"
      ],
      "text/plain": [
       "                 Track_ID  Popularity  Explicit\n",
       "0  02MBhqgR7WeeI4ZfB6Lo0i           0     False\n",
       "1  5j4M4gLYuUy9PVw0vsXWyq           0     False\n",
       "2  46EucLPJpx0QM3SCjzzdP0           0     False\n",
       "3  4nK2LvW3osgDT89S38Mcg6           0     False\n",
       "4  1Pq37WIQZDG7yNFnY5IbqG           0     False"
      ]
     },
     "execution_count": 13,
     "metadata": {},
     "output_type": "execute_result"
    }
   ],
   "source": [
    "track_df.head()"
   ]
  },
  {
   "cell_type": "code",
   "execution_count": 22,
   "id": "87862b19-7732-4d2a-936c-afd9bc3f2494",
   "metadata": {},
   "outputs": [
    {
     "data": {
      "text/plain": [
       "Track_ID      object\n",
       "Popularity     int64\n",
       "Explicit        bool\n",
       "dtype: object"
      ]
     },
     "execution_count": 22,
     "metadata": {},
     "output_type": "execute_result"
    }
   ],
   "source": [
    "track_df.dtypes"
   ]
  },
  {
   "cell_type": "code",
   "execution_count": 34,
   "id": "5c1f87b0-03fd-4a00-bf36-fac9c9307291",
   "metadata": {},
   "outputs": [
    {
     "data": {
      "image/png": "[encoded data removed]",
      "text/plain": [
       "<Figure size 1296x720 with 1 Axes>"
      ]
     },
     "metadata": {
      "needs_background": "light"
     },
     "output_type": "display_data"
    }
   ],
   "source": [
    "# count plot on single categorical variable\n",
    "sns.countplot(x = 'Explicit', data=track_df)\n",
    "# Show the plot\n",
    "plt.show()"
   ]
  },
  {
   "cell_type": "code",
   "execution_count": 46,
   "id": "c65d0777-946b-4f67-8c0f-bf790e916621",
   "metadata": {},
   "outputs": [
    {
     "data": {
      "image/png": "[encoded data removed]",
      "text/plain": [
       "<Figure size 360x360 with 1 Axes>"
      ]
     },
     "metadata": {
      "needs_background": "light"
     },
     "output_type": "display_data"
    }
   ],
   "source": []
  },
  {
   "cell_type": "code",
   "execution_count": 50,
   "id": "48152fa8-8a88-45de-b24d-feb56e4cc67c",
   "metadata": {},
   "outputs": [
    {
     "data": {
      "text/plain": [
       "<AxesSubplot:xlabel='Popularity', ylabel='Count'>"
      ]
     },
     "execution_count": 50,
     "metadata": {},
     "output_type": "execute_result"
    },
    {
     "data": {
      "image/png": "[encoded data removed]",
      "text/plain": [
       "<Figure size 1296x720 with 1 Axes>"
      ]
     },
     "metadata": {
      "needs_background": "light"
     },
     "output_type": "display_data"
    }
   ],
   "source": [
    "sns.histplot(x=track_df['Popularity'], binrange=(0,100))"
   ]
  },
  {
   "cell_type": "code",
   "execution_count": 51,
   "id": "b763fd38-775b-4acb-9b3f-702a77333255",
   "metadata": {},
   "outputs": [
    {
     "data": {
      "text/html": [
       "<div>\n",
       "<style scoped>\n",
       "    .dataframe tbody tr th:only-of-type {\n",
       "        vertical-align: middle;\n",
       "    }\n",
       "\n",
       "    .dataframe tbody tr th {\n",
       "        vertical-align: top;\n",
       "    }\n",
       "\n",
       "    .dataframe thead th {\n",
       "        text-align: right;\n",
       "    }\n",
       "</style>\n",
       "<table border=\"1\" class=\"dataframe\">\n",
       "  <thead>\n",
       "    <tr style=\"text-align: right;\">\n",
       "      <th></th>\n",
       "      <th>id</th>\n",
       "      <th>track_popularity</th>\n",
       "      <th>explicit</th>\n",
       "    </tr>\n",
       "  </thead>\n",
       "  <tbody>\n",
       "    <tr>\n",
       "      <th>0</th>\n",
       "      <td>02MBhqgR7WeeI4ZfB6Lo0i</td>\n",
       "      <td>0</td>\n",
       "      <td>False</td>\n",
       "    </tr>\n",
       "    <tr>\n",
       "      <th>1</th>\n",
       "      <td>5j4M4gLYuUy9PVw0vsXWyq</td>\n",
       "      <td>0</td>\n",
       "      <td>False</td>\n",
       "    </tr>\n",
       "    <tr>\n",
       "      <th>2</th>\n",
       "      <td>46EucLPJpx0QM3SCjzzdP0</td>\n",
       "      <td>0</td>\n",
       "      <td>False</td>\n",
       "    </tr>\n",
       "    <tr>\n",
       "      <th>3</th>\n",
       "      <td>4nK2LvW3osgDT89S38Mcg6</td>\n",
       "      <td>0</td>\n",
       "      <td>False</td>\n",
       "    </tr>\n",
       "    <tr>\n",
       "      <th>4</th>\n",
       "      <td>1Pq37WIQZDG7yNFnY5IbqG</td>\n",
       "      <td>0</td>\n",
       "      <td>False</td>\n",
       "    </tr>\n",
       "  </tbody>\n",
       "</table>\n",
       "</div>"
      ],
      "text/plain": [
       "                       id  track_popularity  explicit\n",
       "0  02MBhqgR7WeeI4ZfB6Lo0i                 0     False\n",
       "1  5j4M4gLYuUy9PVw0vsXWyq                 0     False\n",
       "2  46EucLPJpx0QM3SCjzzdP0                 0     False\n",
       "3  4nK2LvW3osgDT89S38Mcg6                 0     False\n",
       "4  1Pq37WIQZDG7yNFnY5IbqG                 0     False"
      ]
     },
     "execution_count": 51,
     "metadata": {},
     "output_type": "execute_result"
    }
   ],
   "source": [
    "# Uncomment to see the original dataframe\n",
    "original_albums_df = pd.read_csv(config['files']['track_popularity_explicit'])\n",
    "original_albums_df.head()"
   ]
  },
  {
   "cell_type": "code",
   "execution_count": 52,
   "id": "2f307a09-7283-420f-8e86-78e17777d0ea",
   "metadata": {},
   "outputs": [
    {
     "data": {
      "text/html": [
       "<div>\n",
       "<style scoped>\n",
       "    .dataframe tbody tr th:only-of-type {\n",
       "        vertical-align: middle;\n",
       "    }\n",
       "\n",
       "    .dataframe tbody tr th {\n",
       "        vertical-align: top;\n",
       "    }\n",
       "\n",
       "    .dataframe thead th {\n",
       "        text-align: right;\n",
       "    }\n",
       "</style>\n",
       "<table border=\"1\" class=\"dataframe\">\n",
       "  <thead>\n",
       "    <tr style=\"text-align: right;\">\n",
       "      <th></th>\n",
       "      <th>Track_ID</th>\n",
       "      <th>Popularity</th>\n",
       "      <th>Explicit</th>\n",
       "    </tr>\n",
       "  </thead>\n",
       "  <tbody>\n",
       "    <tr>\n",
       "      <th>0</th>\n",
       "      <td>02MBhqgR7WeeI4ZfB6Lo0i</td>\n",
       "      <td>0</td>\n",
       "      <td>False</td>\n",
       "    </tr>\n",
       "    <tr>\n",
       "      <th>1</th>\n",
       "      <td>5j4M4gLYuUy9PVw0vsXWyq</td>\n",
       "      <td>0</td>\n",
       "      <td>False</td>\n",
       "    </tr>\n",
       "    <tr>\n",
       "      <th>2</th>\n",
       "      <td>46EucLPJpx0QM3SCjzzdP0</td>\n",
       "      <td>0</td>\n",
       "      <td>False</td>\n",
       "    </tr>\n",
       "    <tr>\n",
       "      <th>3</th>\n",
       "      <td>4nK2LvW3osgDT89S38Mcg6</td>\n",
       "      <td>0</td>\n",
       "      <td>False</td>\n",
       "    </tr>\n",
       "    <tr>\n",
       "      <th>4</th>\n",
       "      <td>1Pq37WIQZDG7yNFnY5IbqG</td>\n",
       "      <td>0</td>\n",
       "      <td>False</td>\n",
       "    </tr>\n",
       "  </tbody>\n",
       "</table>\n",
       "</div>"
      ],
      "text/plain": [
       "                 Track_ID  Popularity  Explicit\n",
       "0  02MBhqgR7WeeI4ZfB6Lo0i           0     False\n",
       "1  5j4M4gLYuUy9PVw0vsXWyq           0     False\n",
       "2  46EucLPJpx0QM3SCjzzdP0           0     False\n",
       "3  4nK2LvW3osgDT89S38Mcg6           0     False\n",
       "4  1Pq37WIQZDG7yNFnY5IbqG           0     False"
      ]
     },
     "execution_count": 52,
     "metadata": {},
     "output_type": "execute_result"
    }
   ],
   "source": [
    "track_df.head()"
   ]
  },
  {
   "cell_type": "code",
   "execution_count": 53,
   "id": "8c3159c6-2674-4da2-8a87-8dcbbb6767b0",
   "metadata": {},
   "outputs": [],
   "source": [
    "track_df.to_csv(config['directories']['clean_data']+\"track_popularity_explicit_data.csv\", index=False)"
   ]
  },
  {
   "cell_type": "code",
   "execution_count": 54,
   "id": "b61f1a30-f0b1-4bce-8a80-e90aa1e4f26f",
   "metadata": {},
   "outputs": [],
   "source": [
    "del track_df"
   ]
  },
  {
   "cell_type": "code",
   "execution_count": null,
   "id": "43551873-b72f-4759-aeae-0250988449c5",
   "metadata": {},
   "outputs": [],
   "source": []
  }
 ],
 "metadata": {
  "kernelspec": {
   "display_name": "Python 3 (ipykernel)",
   "language": "python",
   "name": "python3"
  },
  "language_info": {
   "codemirror_mode": {
    "name": "ipython",
    "version": 3
   },
   "file_extension": ".py",
   "mimetype": "text/x-python",
   "name": "python",
   "nbconvert_exporter": "python",
   "pygments_lexer": "ipython3",
   "version": "3.9.12"
  }
 },
 "nbformat": 4,
 "nbformat_minor": 5
}
